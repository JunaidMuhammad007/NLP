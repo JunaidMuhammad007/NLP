{
  "nbformat": 4,
  "nbformat_minor": 0,
  "metadata": {
    "colab": {
      "name": "NLP Assignment 1.ipynb",
      "provenance": [],
      "collapsed_sections": []
    },
    "kernelspec": {
      "name": "python3",
      "display_name": "Python 3"
    }
  },
  "cells": [
    {
      "cell_type": "code",
      "metadata": {
        "id": "WENliTD9JXMx",
        "outputId": "82850567-551a-4da2-ef36-fa03f9390ed5",
        "colab": {
          "base_uri": "https://localhost:8080/",
          "height": 90
        }
      },
      "source": [
        "#Junaid Muhammad\n",
        "#P166029\n",
        "#NLP Assignment1\n",
        "#10/07/2020\n",
        "#CS-9A\n",
        "\n",
        "def minimum_edit_distance(string1, string2, a, b, Cost):\n",
        "\n",
        "  matrix = [[0 for x in range(b + 1)] for y in range(a + 1)]\n",
        "  \n",
        "  for x in range(a + 1):\n",
        "    \n",
        "    for y in range(b + 1):\n",
        "# If first string is empty, the only option is to \n",
        "# insert all characters of second string into first      \n",
        "      if x == 0:\n",
        "        matrix[x][y] = y\n",
        "# If second string is empty, the only option is to \n",
        "# remove all characters of first string       \n",
        "      elif y == 0:\n",
        "        matrix[x][y] = x\n",
        "# If last characters of two strings are same, nothing \n",
        "# much to do. Ignore last characters and get count for \n",
        "# remaining strings.       \n",
        "      elif string1[x-1] == string2[y-1]:\n",
        "       matrix[x][y] = matrix[x-1][y-1]\n",
        "# If last characters are not same, consider all three \n",
        "# operations on last character of first string, recursively \n",
        "# compute minimum cost for all three operations and take \n",
        "# minimum of three values     \n",
        "      else:\n",
        "       matrix[x][y] = 1 + min(matrix[x][y-1],\n",
        "                                matrix[x-1][y],\n",
        "                                matrix[x-1][y-1] + Cost)\n",
        "  return matrix[a][b]\n",
        "# Taking string1, String2 and Cost from User and passing it to\n",
        "# minimum_edit_distance function\n",
        "string1 = input(\"Enter source string: \")      \n",
        "\n",
        "string2 = input(\"Enter target string: \")\n",
        "\n",
        "Cost = int(input(\"Enter cost of path: \")) \n",
        "     \n",
        "print(minimum_edit_distance(string1, string2, len(string1), len(string2), Cost))"
      ],
      "execution_count": 34,
      "outputs": [
        {
          "output_type": "stream",
          "text": [
            "Enter source string: abc\n",
            "Enter target string: xyz\n",
            "Enter cost of path: 2\n",
            "6\n"
          ],
          "name": "stdout"
        }
      ]
    }
  ]
}